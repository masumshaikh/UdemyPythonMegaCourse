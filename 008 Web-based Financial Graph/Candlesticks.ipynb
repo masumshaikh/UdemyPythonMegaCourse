{
 "cells": [
  {
   "cell_type": "code",
   "execution_count": 1,
   "metadata": {},
   "outputs": [],
   "source": [
    "import quandl\n",
    "import datetime\n",
    "from bokeh.plotting import figure, show, output_file"
   ]
  },
  {
   "cell_type": "code",
   "execution_count": 2,
   "metadata": {},
   "outputs": [],
   "source": [
    "start = datetime.datetime(2018, 3, 28)\n",
    "end  = datetime.datetime(2019, 3, 28)\n",
    "\n",
    "# Can also pass in the dates as text.\n",
    "df = quandl.get(\"CHRIS/ICE_T1\", start_date = start, end_date = end, authtoken=\"kKBgENVq-3A6eeWUb5Pn\")"
   ]
  },
  {
   "cell_type": "code",
   "execution_count": 23,
   "metadata": {},
   "outputs": [
    {
     "data": {
      "text/html": [
       "<div>\n",
       "<style>\n",
       "    .dataframe thead tr:only-child th {\n",
       "        text-align: right;\n",
       "    }\n",
       "\n",
       "    .dataframe thead th {\n",
       "        text-align: left;\n",
       "    }\n",
       "\n",
       "    .dataframe tbody tr th {\n",
       "        vertical-align: top;\n",
       "    }\n",
       "</style>\n",
       "<table border=\"1\" class=\"dataframe\">\n",
       "  <thead>\n",
       "    <tr style=\"text-align: right;\">\n",
       "      <th></th>\n",
       "      <th>Open</th>\n",
       "      <th>High</th>\n",
       "      <th>Low</th>\n",
       "      <th>Settle</th>\n",
       "      <th>Change</th>\n",
       "      <th>Wave</th>\n",
       "      <th>Volume</th>\n",
       "      <th>Prev. Day Open Interest</th>\n",
       "      <th>EFP Volume</th>\n",
       "      <th>EFS Volume</th>\n",
       "      <th>Block Volume</th>\n",
       "    </tr>\n",
       "    <tr>\n",
       "      <th>Date</th>\n",
       "      <th></th>\n",
       "      <th></th>\n",
       "      <th></th>\n",
       "      <th></th>\n",
       "      <th></th>\n",
       "      <th></th>\n",
       "      <th></th>\n",
       "      <th></th>\n",
       "      <th></th>\n",
       "      <th></th>\n",
       "      <th></th>\n",
       "    </tr>\n",
       "  </thead>\n",
       "  <tbody>\n",
       "    <tr>\n",
       "      <th>2019-03-21</th>\n",
       "      <td>60.10</td>\n",
       "      <td>60.40</td>\n",
       "      <td>59.67</td>\n",
       "      <td>59.98</td>\n",
       "      <td>-0.25</td>\n",
       "      <td>60.07</td>\n",
       "      <td>46639.0</td>\n",
       "      <td>64108.0</td>\n",
       "      <td>NaN</td>\n",
       "      <td>NaN</td>\n",
       "      <td>858.0</td>\n",
       "    </tr>\n",
       "    <tr>\n",
       "      <th>2019-03-22</th>\n",
       "      <td>59.91</td>\n",
       "      <td>60.06</td>\n",
       "      <td>58.29</td>\n",
       "      <td>59.04</td>\n",
       "      <td>-0.94</td>\n",
       "      <td>58.94</td>\n",
       "      <td>46874.0</td>\n",
       "      <td>65390.0</td>\n",
       "      <td>NaN</td>\n",
       "      <td>NaN</td>\n",
       "      <td>1514.0</td>\n",
       "    </tr>\n",
       "    <tr>\n",
       "      <th>2019-03-25</th>\n",
       "      <td>59.00</td>\n",
       "      <td>59.34</td>\n",
       "      <td>58.18</td>\n",
       "      <td>58.82</td>\n",
       "      <td>-0.22</td>\n",
       "      <td>58.83</td>\n",
       "      <td>42983.0</td>\n",
       "      <td>61495.0</td>\n",
       "      <td>NaN</td>\n",
       "      <td>NaN</td>\n",
       "      <td>626.0</td>\n",
       "    </tr>\n",
       "    <tr>\n",
       "      <th>2019-03-26</th>\n",
       "      <td>59.16</td>\n",
       "      <td>60.37</td>\n",
       "      <td>59.14</td>\n",
       "      <td>59.94</td>\n",
       "      <td>1.12</td>\n",
       "      <td>59.89</td>\n",
       "      <td>41719.0</td>\n",
       "      <td>58011.0</td>\n",
       "      <td>NaN</td>\n",
       "      <td>NaN</td>\n",
       "      <td>1149.0</td>\n",
       "    </tr>\n",
       "    <tr>\n",
       "      <th>2019-03-27</th>\n",
       "      <td>59.85</td>\n",
       "      <td>60.23</td>\n",
       "      <td>58.82</td>\n",
       "      <td>59.41</td>\n",
       "      <td>-0.53</td>\n",
       "      <td>59.55</td>\n",
       "      <td>42916.0</td>\n",
       "      <td>55480.0</td>\n",
       "      <td>NaN</td>\n",
       "      <td>NaN</td>\n",
       "      <td>1324.0</td>\n",
       "    </tr>\n",
       "  </tbody>\n",
       "</table>\n",
       "</div>"
      ],
      "text/plain": [
       "             Open   High    Low  Settle  Change   Wave   Volume  \\\n",
       "Date                                                              \n",
       "2019-03-21  60.10  60.40  59.67   59.98   -0.25  60.07  46639.0   \n",
       "2019-03-22  59.91  60.06  58.29   59.04   -0.94  58.94  46874.0   \n",
       "2019-03-25  59.00  59.34  58.18   58.82   -0.22  58.83  42983.0   \n",
       "2019-03-26  59.16  60.37  59.14   59.94    1.12  59.89  41719.0   \n",
       "2019-03-27  59.85  60.23  58.82   59.41   -0.53  59.55  42916.0   \n",
       "\n",
       "            Prev. Day Open Interest  EFP Volume  EFS Volume  Block Volume  \n",
       "Date                                                                       \n",
       "2019-03-21                  64108.0         NaN         NaN         858.0  \n",
       "2019-03-22                  65390.0         NaN         NaN        1514.0  \n",
       "2019-03-25                  61495.0         NaN         NaN         626.0  \n",
       "2019-03-26                  58011.0         NaN         NaN        1149.0  \n",
       "2019-03-27                  55480.0         NaN         NaN        1324.0  "
      ]
     },
     "execution_count": 23,
     "metadata": {},
     "output_type": "execute_result"
    }
   ],
   "source": [
    "df.tail()"
   ]
  },
  {
   "cell_type": "code",
   "execution_count": 5,
   "metadata": {},
   "outputs": [],
   "source": [
    "green_bars = df[df['Settle'] > df['Open']] # up days\n",
    "red_bars   = df[df['Settle'] < df['Open']] # down days \n",
    "twelve_hours = 12*60*60*1000"
   ]
  },
  {
   "cell_type": "code",
   "execution_count": 39,
   "metadata": {},
   "outputs": [
    {
     "data": {
      "text/plain": [
       "DatetimeIndex(['2018-03-29', '2018-04-03', '2018-04-09', '2018-04-10',\n",
       "               '2018-04-11', '2018-04-12', '2018-04-13', '2018-04-17',\n",
       "               '2018-04-18', '2018-04-20',\n",
       "               ...\n",
       "               '2019-03-04', '2019-03-05', '2019-03-06', '2019-03-07',\n",
       "               '2019-03-11', '2019-03-13', '2019-03-14', '2019-03-18',\n",
       "               '2019-03-20', '2019-03-26'],\n",
       "              dtype='datetime64[ns]', name='Date', length=140, freq=None)"
      ]
     },
     "execution_count": 39,
     "metadata": {},
     "output_type": "execute_result"
    }
   ],
   "source": [
    "green_bars[]"
   ]
  },
  {
   "cell_type": "code",
   "execution_count": 12,
   "metadata": {},
   "outputs": [],
   "source": [
    "fig = figure(x_axis_type='datetime', title = \"Candlestick Chart\", width=1000, height = 300)\n",
    "fig.vbar(green_bars.index, width=1, bottom=green_bars[\"Low\"], top=green_bars[\"High\"], color=\"black\")\n",
    "fig.vbar(green_bars.index, width=twelve_hours, bottom=green_bars[\"Open\"], top=green_bars[\"Settle\"], color=\"green\")\n",
    "\n",
    "fig.vbar(red_bars.index, width=1, bottom=red_bars[\"Low\"], top=red_bars[\"High\"], color=\"black\")\n",
    "fig.vbar(red_bars.index, width=twelve_hours, bottom=red_bars[\"Open\"], top=red_bars[\"Settle\"], color=\"red\")\n",
    "\n",
    "show(fig)\n"
   ]
  }
 ],
 "metadata": {
  "kernelspec": {
   "display_name": "Python 3",
   "language": "python",
   "name": "python3"
  },
  "language_info": {
   "codemirror_mode": {
    "name": "ipython",
    "version": 3
   },
   "file_extension": ".py",
   "mimetype": "text/x-python",
   "name": "python",
   "nbconvert_exporter": "python",
   "pygments_lexer": "ipython3",
   "version": "3.6.1"
  }
 },
 "nbformat": 4,
 "nbformat_minor": 2
}
